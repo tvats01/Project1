{
  "cells": [
    {
      "cell_type": "code",
      "execution_count": 1,
      "metadata": {
        "colab": {
          "base_uri": "https://localhost:8080/",
          "height": 104
        },
        "id": "gJKpKwYX63JO",
        "outputId": "491f123b-b423-4be2-9623-8968131f8974"
      },
      "outputs": [
        {
          "output_type": "stream",
          "name": "stderr",
          "text": [
            "[nltk_data] Downloading package stopwords to /root/nltk_data...\n",
            "[nltk_data]   Package stopwords is already up-to-date!\n",
            "[nltk_data] Downloading package punkt to /root/nltk_data...\n",
            "[nltk_data]   Package punkt is already up-to-date!\n"
          ]
        },
        {
          "output_type": "display_data",
          "data": {
            "text/plain": [
              "<Figure size 432x288 with 0 Axes>"
            ]
          },
          "metadata": {}
        }
      ],
      "source": [
        "import os\n",
        "\n",
        "import pandas as pd\n",
        "import numpy as np\n",
        "import matplotlib.pyplot as plt\n",
        "import seaborn as sns\n",
        "\n",
        "#Text cleaning\n",
        "import re, string\n",
        "\n",
        "import nltk\n",
        "nltk.download('stopwords')\n",
        "nltk.download('punkt')\n",
        "from nltk.stem import WordNetLemmatizer,PorterStemmer\n",
        "from nltk.corpus import stopwords\n",
        "stop_words = set(stopwords.words('english'))\n",
        "\n",
        "#Data preprocessing\n",
        "from sklearn import preprocessing\n",
        "from sklearn.model_selection import train_test_split\n",
        "from imblearn.over_sampling import RandomOverSampler\n",
        "\n",
        "#Naive Bayes\n",
        "from sklearn.feature_extraction.text import CountVectorizer\n",
        "from sklearn.feature_extraction.text import TfidfTransformer\n",
        "from sklearn.naive_bayes import MultinomialNB\n",
        "\n",
        "\n",
        "#PyTorch LSTM\n",
        "import torch\n",
        "import torch.nn as nn\n",
        "import torch.nn.functional as F\n",
        "from torch.utils.data import TensorDataset, DataLoader, RandomSampler, SequentialSampler\n",
        "\n",
        "#Tokenization for LSTM\n",
        "from collections import Counter\n",
        "from gensim.models import Word2Vec\n",
        "\n",
        "from sklearn.metrics import classification_report, confusion_matrix\n",
        "\n",
        "#Seed for reproducibility\n",
        "import random\n",
        "\n",
        "seed_value=42\n",
        "random.seed(seed_value)\n",
        "np.random.seed(seed_value)\n",
        "torch.manual_seed(seed_value)\n",
        "torch.cuda.manual_seed_all(seed_value)\n",
        "\n",
        "import time\n",
        "\n",
        "#set style for plots\n",
        "sns.set_style(\"whitegrid\")\n",
        "sns.despine()\n",
        "plt.style.use(\"seaborn-whitegrid\")\n",
        "plt.rc(\"figure\", autolayout=True)\n",
        "plt.rc(\"axes\", labelweight=\"bold\", labelsize=\"large\", titleweight=\"bold\", titlepad=10)"
      ]
    },
    {
      "cell_type": "code",
      "execution_count": 2,
      "metadata": {
        "id": "gDZVc4Ua7O51",
        "colab": {
          "base_uri": "https://localhost:8080/",
          "height": 206
        },
        "outputId": "d8a3454c-9d19-4fa1-a8a5-04cf2b3cc892"
      },
      "outputs": [
        {
          "output_type": "execute_result",
          "data": {
            "text/plain": [
              "                                                text    sentiment\n",
              "0  5b700e 700e 5b11 5411 5b11 5411 705b5b590e 082...    GoldDream\n",
              "0  1a710e 700e 1a691a691a690e 700e 2270690e 700e ...  AnserverBot\n",
              "0  705b0e 54710c12546e0c710c6e0a381a546e38546e0e6...       Pjapps\n",
              "0  700e 5b700e 720e 5b59700e 546e0a3954526e0e 5b7...       Benign\n",
              "0  5b70125c0e 700e 5411 13121212541a6e0c1f6e0a396...       Benign"
            ],
            "text/html": [
              "\n",
              "  <div id=\"df-ce15e9fa-6762-42f0-857e-cf21b23d88d9\">\n",
              "    <div class=\"colab-df-container\">\n",
              "      <div>\n",
              "<style scoped>\n",
              "    .dataframe tbody tr th:only-of-type {\n",
              "        vertical-align: middle;\n",
              "    }\n",
              "\n",
              "    .dataframe tbody tr th {\n",
              "        vertical-align: top;\n",
              "    }\n",
              "\n",
              "    .dataframe thead th {\n",
              "        text-align: right;\n",
              "    }\n",
              "</style>\n",
              "<table border=\"1\" class=\"dataframe\">\n",
              "  <thead>\n",
              "    <tr style=\"text-align: right;\">\n",
              "      <th></th>\n",
              "      <th>text</th>\n",
              "      <th>sentiment</th>\n",
              "    </tr>\n",
              "  </thead>\n",
              "  <tbody>\n",
              "    <tr>\n",
              "      <th>0</th>\n",
              "      <td>5b700e 700e 5b11 5411 5b11 5411 705b5b590e 082...</td>\n",
              "      <td>GoldDream</td>\n",
              "    </tr>\n",
              "    <tr>\n",
              "      <th>0</th>\n",
              "      <td>1a710e 700e 1a691a691a690e 700e 2270690e 700e ...</td>\n",
              "      <td>AnserverBot</td>\n",
              "    </tr>\n",
              "    <tr>\n",
              "      <th>0</th>\n",
              "      <td>705b0e 54710c12546e0c710c6e0a381a546e38546e0e6...</td>\n",
              "      <td>Pjapps</td>\n",
              "    </tr>\n",
              "    <tr>\n",
              "      <th>0</th>\n",
              "      <td>700e 5b700e 720e 5b59700e 546e0a3954526e0e 5b7...</td>\n",
              "      <td>Benign</td>\n",
              "    </tr>\n",
              "    <tr>\n",
              "      <th>0</th>\n",
              "      <td>5b70125c0e 700e 5411 13121212541a6e0c1f6e0a396...</td>\n",
              "      <td>Benign</td>\n",
              "    </tr>\n",
              "  </tbody>\n",
              "</table>\n",
              "</div>\n",
              "      <button class=\"colab-df-convert\" onclick=\"convertToInteractive('df-ce15e9fa-6762-42f0-857e-cf21b23d88d9')\"\n",
              "              title=\"Convert this dataframe to an interactive table.\"\n",
              "              style=\"display:none;\">\n",
              "        \n",
              "  <svg xmlns=\"http://www.w3.org/2000/svg\" height=\"24px\"viewBox=\"0 0 24 24\"\n",
              "       width=\"24px\">\n",
              "    <path d=\"M0 0h24v24H0V0z\" fill=\"none\"/>\n",
              "    <path d=\"M18.56 5.44l.94 2.06.94-2.06 2.06-.94-2.06-.94-.94-2.06-.94 2.06-2.06.94zm-11 1L8.5 8.5l.94-2.06 2.06-.94-2.06-.94L8.5 2.5l-.94 2.06-2.06.94zm10 10l.94 2.06.94-2.06 2.06-.94-2.06-.94-.94-2.06-.94 2.06-2.06.94z\"/><path d=\"M17.41 7.96l-1.37-1.37c-.4-.4-.92-.59-1.43-.59-.52 0-1.04.2-1.43.59L10.3 9.45l-7.72 7.72c-.78.78-.78 2.05 0 2.83L4 21.41c.39.39.9.59 1.41.59.51 0 1.02-.2 1.41-.59l7.78-7.78 2.81-2.81c.8-.78.8-2.07 0-2.86zM5.41 20L4 18.59l7.72-7.72 1.47 1.35L5.41 20z\"/>\n",
              "  </svg>\n",
              "      </button>\n",
              "      \n",
              "  <style>\n",
              "    .colab-df-container {\n",
              "      display:flex;\n",
              "      flex-wrap:wrap;\n",
              "      gap: 12px;\n",
              "    }\n",
              "\n",
              "    .colab-df-convert {\n",
              "      background-color: #E8F0FE;\n",
              "      border: none;\n",
              "      border-radius: 50%;\n",
              "      cursor: pointer;\n",
              "      display: none;\n",
              "      fill: #1967D2;\n",
              "      height: 32px;\n",
              "      padding: 0 0 0 0;\n",
              "      width: 32px;\n",
              "    }\n",
              "\n",
              "    .colab-df-convert:hover {\n",
              "      background-color: #E2EBFA;\n",
              "      box-shadow: 0px 1px 2px rgba(60, 64, 67, 0.3), 0px 1px 3px 1px rgba(60, 64, 67, 0.15);\n",
              "      fill: #174EA6;\n",
              "    }\n",
              "\n",
              "    [theme=dark] .colab-df-convert {\n",
              "      background-color: #3B4455;\n",
              "      fill: #D2E3FC;\n",
              "    }\n",
              "\n",
              "    [theme=dark] .colab-df-convert:hover {\n",
              "      background-color: #434B5C;\n",
              "      box-shadow: 0px 1px 3px 1px rgba(0, 0, 0, 0.15);\n",
              "      filter: drop-shadow(0px 1px 2px rgba(0, 0, 0, 0.3));\n",
              "      fill: #FFFFFF;\n",
              "    }\n",
              "  </style>\n",
              "\n",
              "      <script>\n",
              "        const buttonEl =\n",
              "          document.querySelector('#df-ce15e9fa-6762-42f0-857e-cf21b23d88d9 button.colab-df-convert');\n",
              "        buttonEl.style.display =\n",
              "          google.colab.kernel.accessAllowed ? 'block' : 'none';\n",
              "\n",
              "        async function convertToInteractive(key) {\n",
              "          const element = document.querySelector('#df-ce15e9fa-6762-42f0-857e-cf21b23d88d9');\n",
              "          const dataTable =\n",
              "            await google.colab.kernel.invokeFunction('convertToInteractive',\n",
              "                                                     [key], {});\n",
              "          if (!dataTable) return;\n",
              "\n",
              "          const docLinkHtml = 'Like what you see? Visit the ' +\n",
              "            '<a target=\"_blank\" href=https://colab.research.google.com/notebooks/data_table.ipynb>data table notebook</a>'\n",
              "            + ' to learn more about interactive tables.';\n",
              "          element.innerHTML = '';\n",
              "          dataTable['output_type'] = 'display_data';\n",
              "          await google.colab.output.renderOutput(dataTable, element);\n",
              "          const docLink = document.createElement('div');\n",
              "          docLink.innerHTML = docLinkHtml;\n",
              "          element.appendChild(docLink);\n",
              "        }\n",
              "      </script>\n",
              "    </div>\n",
              "  </div>\n",
              "  "
            ]
          },
          "metadata": {},
          "execution_count": 2
        }
      ],
      "source": [
        "data_path = r\"/content/drive/MyDrive/malConv_data/Acctual_data/malware\"\n",
        "\n",
        "df = pd.DataFrame({'text' : [], 'sentiment' : []})\n",
        "class_labels = {}\n",
        "\n",
        "for idx, label in enumerate(os.listdir(data_path)):\n",
        "  class_labels[idx] = label\n",
        "\n",
        "  label_dir = os.path.join(data_path, label)\n",
        "  for opc_file_path in os.listdir(label_dir):\n",
        "    opc_path = os.path.join(label_dir, opc_file_path)\n",
        "    f = open(opc_path, mode='r', encoding='cp1252')\n",
        "\n",
        "    mal_opcode = []\n",
        "    for i in f:\n",
        "      mal_opcode.append(i[:-1])\n",
        "\n",
        "    mal_opcode = \" \".join(mal_opcode)\n",
        "    \n",
        "    df1 = pd.DataFrame({'text' : [mal_opcode], 'sentiment' : [label]})\n",
        "    df = pd.concat([df, df1])\n",
        "\n",
        "\n",
        "df = df.sample(frac = 1)    \n",
        "df.head()"
      ]
    },
    {
      "cell_type": "code",
      "source": [
        "sentiments = list(df.sentiment.unique())\n",
        "\n",
        "labels_dict = {lab : i for i, lab in enumerate(sentiments)}\n",
        "df['sentiment'] = df['sentiment'].replace(labels_dict)"
      ],
      "metadata": {
        "id": "tmTvApT8xz1U"
      },
      "execution_count": 3,
      "outputs": []
    },
    {
      "cell_type": "code",
      "source": [
        "def Tokenize(column, seq_len):\n",
        "    ##Create vocabulary of words from column\n",
        "    corpus = [word for text in column for word in text.split()]\n",
        "    count_words = Counter(corpus)\n",
        "    sorted_words = count_words.most_common()\n",
        "    vocab_to_int = {w:i+1 for i, (w,c) in enumerate(sorted_words)}\n",
        "\n",
        "    ##Tokenize the columns text using the vocabulary\n",
        "    text_int = []\n",
        "    for text in column:\n",
        "        r = [vocab_to_int[word] for word in text.split()]\n",
        "        text_int.append(r)\n",
        "    ##Add padding to tokens\n",
        "    features = np.zeros((len(text_int), seq_len), dtype = int)\n",
        "    for i, review in enumerate(text_int):\n",
        "        if len(review) <= seq_len:\n",
        "            zeros = list(np.zeros(seq_len - len(review)))\n",
        "            new = zeros + review\n",
        "        else:\n",
        "            new = review[: seq_len]\n",
        "        features[i, :] = np.array(new)\n",
        "\n",
        "    return sorted_words, features"
      ],
      "metadata": {
        "id": "eNWmN3YJy7ng"
      },
      "execution_count": 4,
      "outputs": []
    },
    {
      "cell_type": "code",
      "source": [
        "vector_len = max_len = 1000\n",
        "vocabulary, tokenized_column = Tokenize(df[\"text\"], max_len)"
      ],
      "metadata": {
        "id": "qHmmnKvZzaKk"
      },
      "execution_count": 5,
      "outputs": []
    },
    {
      "cell_type": "code",
      "source": [
        "X = tokenized_column.astype(np.double)\n",
        "y = df['sentiment'].values"
      ],
      "metadata": {
        "id": "Fb_2MsXa0YbM"
      },
      "execution_count": 6,
      "outputs": []
    },
    {
      "cell_type": "code",
      "source": [
        "X.shape"
      ],
      "metadata": {
        "id": "rOVBjsZY0_sH",
        "colab": {
          "base_uri": "https://localhost:8080/"
        },
        "outputId": "5323865e-45eb-4207-dbdc-12d37f3b82a2"
      },
      "execution_count": 7,
      "outputs": [
        {
          "output_type": "execute_result",
          "data": {
            "text/plain": [
              "(2147, 1000)"
            ]
          },
          "metadata": {},
          "execution_count": 7
        }
      ]
    },
    {
      "cell_type": "code",
      "source": [
        "y.shape"
      ],
      "metadata": {
        "id": "yGZ5d9lU1BUM",
        "colab": {
          "base_uri": "https://localhost:8080/"
        },
        "outputId": "1373ce1d-f198-4178-b3ef-4da7f4bff2a3"
      },
      "execution_count": 8,
      "outputs": [
        {
          "output_type": "execute_result",
          "data": {
            "text/plain": [
              "(2147,)"
            ]
          },
          "metadata": {},
          "execution_count": 8
        }
      ]
    },
    {
      "cell_type": "code",
      "source": [
        "X[0]"
      ],
      "metadata": {
        "id": "ZeEciqit1DJO",
        "colab": {
          "base_uri": "https://localhost:8080/"
        },
        "outputId": "04922029-3323-40c4-be87-83160327f9d6"
      },
      "execution_count": 9,
      "outputs": [
        {
          "output_type": "execute_result",
          "data": {
            "text/plain": [
              "array([0.00000e+00, 0.00000e+00, 0.00000e+00, 0.00000e+00, 0.00000e+00,\n",
              "       0.00000e+00, 0.00000e+00, 0.00000e+00, 0.00000e+00, 0.00000e+00,\n",
              "       0.00000e+00, 0.00000e+00, 0.00000e+00, 0.00000e+00, 0.00000e+00,\n",
              "       0.00000e+00, 0.00000e+00, 0.00000e+00, 0.00000e+00, 0.00000e+00,\n",
              "       0.00000e+00, 0.00000e+00, 0.00000e+00, 0.00000e+00, 0.00000e+00,\n",
              "       0.00000e+00, 0.00000e+00, 0.00000e+00, 0.00000e+00, 0.00000e+00,\n",
              "       0.00000e+00, 0.00000e+00, 0.00000e+00, 0.00000e+00, 0.00000e+00,\n",
              "       0.00000e+00, 0.00000e+00, 0.00000e+00, 0.00000e+00, 0.00000e+00,\n",
              "       0.00000e+00, 0.00000e+00, 0.00000e+00, 0.00000e+00, 0.00000e+00,\n",
              "       0.00000e+00, 0.00000e+00, 0.00000e+00, 0.00000e+00, 0.00000e+00,\n",
              "       0.00000e+00, 0.00000e+00, 0.00000e+00, 0.00000e+00, 0.00000e+00,\n",
              "       0.00000e+00, 0.00000e+00, 0.00000e+00, 0.00000e+00, 0.00000e+00,\n",
              "       0.00000e+00, 0.00000e+00, 0.00000e+00, 0.00000e+00, 0.00000e+00,\n",
              "       0.00000e+00, 0.00000e+00, 0.00000e+00, 0.00000e+00, 0.00000e+00,\n",
              "       0.00000e+00, 0.00000e+00, 0.00000e+00, 0.00000e+00, 0.00000e+00,\n",
              "       0.00000e+00, 0.00000e+00, 0.00000e+00, 0.00000e+00, 0.00000e+00,\n",
              "       0.00000e+00, 0.00000e+00, 0.00000e+00, 0.00000e+00, 0.00000e+00,\n",
              "       0.00000e+00, 0.00000e+00, 0.00000e+00, 0.00000e+00, 0.00000e+00,\n",
              "       0.00000e+00, 0.00000e+00, 0.00000e+00, 0.00000e+00, 0.00000e+00,\n",
              "       0.00000e+00, 0.00000e+00, 0.00000e+00, 0.00000e+00, 0.00000e+00,\n",
              "       0.00000e+00, 0.00000e+00, 0.00000e+00, 0.00000e+00, 0.00000e+00,\n",
              "       0.00000e+00, 0.00000e+00, 0.00000e+00, 0.00000e+00, 0.00000e+00,\n",
              "       0.00000e+00, 0.00000e+00, 0.00000e+00, 0.00000e+00, 0.00000e+00,\n",
              "       0.00000e+00, 0.00000e+00, 0.00000e+00, 0.00000e+00, 0.00000e+00,\n",
              "       0.00000e+00, 0.00000e+00, 0.00000e+00, 0.00000e+00, 0.00000e+00,\n",
              "       0.00000e+00, 0.00000e+00, 0.00000e+00, 0.00000e+00, 0.00000e+00,\n",
              "       0.00000e+00, 0.00000e+00, 0.00000e+00, 0.00000e+00, 0.00000e+00,\n",
              "       0.00000e+00, 0.00000e+00, 0.00000e+00, 0.00000e+00, 0.00000e+00,\n",
              "       0.00000e+00, 3.00000e+00, 1.00000e+00, 2.30000e+01, 2.00000e+00,\n",
              "       2.30000e+01, 2.00000e+00, 3.51000e+02, 2.06550e+05, 6.00000e+00,\n",
              "       1.19500e+04, 2.06551e+05, 2.06552e+05, 1.07030e+04, 2.06553e+05,\n",
              "       2.06554e+05, 8.20000e+01, 1.20000e+01, 2.06555e+05, 1.50000e+01,\n",
              "       5.00000e+00, 2.27800e+03, 1.50000e+01, 1.50000e+01, 1.50000e+01,\n",
              "       4.07000e+02, 2.06556e+05, 2.06557e+05, 2.06558e+05, 2.06559e+05,\n",
              "       1.00000e+00, 2.06560e+05, 2.06561e+05, 3.00000e+00, 2.06562e+05,\n",
              "       2.06563e+05, 2.06564e+05, 2.06565e+05, 2.06566e+05, 6.70000e+01,\n",
              "       1.00000e+00, 2.06567e+05, 2.06568e+05, 2.06569e+05, 1.86260e+04,\n",
              "       2.22000e+02, 1.00000e+00, 4.20000e+01, 2.00000e+00, 1.00000e+00,\n",
              "       1.00000e+00, 1.00000e+00, 1.00000e+00, 2.06570e+05, 2.97910e+04,\n",
              "       2.06571e+05, 6.73700e+03, 4.67500e+03, 1.28618e+05, 2.06572e+05,\n",
              "       2.06573e+05, 1.80000e+01, 2.06574e+05, 1.35000e+02, 6.00000e+00,\n",
              "       6.00000e+00, 3.70500e+04, 9.00000e+01, 6.00000e+00, 2.90000e+01,\n",
              "       1.00000e+00, 3.00000e+00, 4.46600e+04, 9.78800e+03, 2.06575e+05,\n",
              "       2.06576e+05, 2.06577e+05, 9.00000e+00, 2.06578e+05, 3.00000e+00,\n",
              "       7.00000e+00, 2.06579e+05, 2.06580e+05, 2.06581e+05, 9.00000e+00,\n",
              "       1.50000e+01, 2.06582e+05, 4.07300e+03, 7.27800e+03, 2.06583e+05,\n",
              "       2.10000e+01, 2.06584e+05, 3.70510e+04, 2.10000e+01, 3.70510e+04,\n",
              "       2.06585e+05, 1.00000e+00, 4.11140e+04, 2.06586e+05, 2.06587e+05,\n",
              "       2.06588e+05, 2.06589e+05, 1.28619e+05, 2.06590e+05, 6.93000e+02,\n",
              "       2.06591e+05, 3.10000e+01, 2.06592e+05, 2.06593e+05, 2.06594e+05,\n",
              "       6.00000e+01, 1.37000e+02, 1.00000e+00, 2.06595e+05, 2.06596e+05,\n",
              "       2.06597e+05, 6.20000e+01, 1.00000e+01, 4.95900e+04, 2.06598e+05,\n",
              "       4.95900e+04, 4.95900e+04, 1.07040e+04, 1.07040e+04, 1.07040e+04,\n",
              "       1.07040e+04, 4.95900e+04, 4.95900e+04, 4.95900e+04, 2.06599e+05,\n",
              "       2.06600e+05, 4.95900e+04, 2.06601e+05, 2.06602e+05, 2.06603e+05,\n",
              "       2.06604e+05, 2.00000e+00, 1.13310e+04, 1.60000e+01, 2.06605e+05,\n",
              "       2.06606e+05, 1.60000e+01, 2.06607e+05, 1.60000e+01, 1.60000e+01,\n",
              "       2.41000e+02, 2.06608e+05, 3.00000e+00, 4.46600e+04, 2.06609e+05,\n",
              "       2.01000e+02, 2.06610e+05, 2.06611e+05, 2.06612e+05, 1.60000e+01,\n",
              "       9.00000e+00, 1.00000e+00, 1.00000e+00, 1.60000e+01, 6.40900e+03,\n",
              "       6.21000e+02, 2.06613e+05, 2.06614e+05, 2.06615e+05, 2.06616e+05,\n",
              "       2.06617e+05, 2.06618e+05, 2.06619e+05, 6.00000e+00, 6.00000e+00,\n",
              "       2.00000e+00, 2.00000e+00, 6.00000e+00, 6.00000e+00, 2.00000e+00,\n",
              "       6.00000e+00, 6.00000e+00, 2.00000e+00, 6.00000e+00, 6.00000e+00,\n",
              "       1.40000e+01, 6.50830e+04, 2.06620e+05, 2.06621e+05, 1.28620e+05,\n",
              "       2.06622e+05, 2.06623e+05, 2.06624e+05, 1.28621e+05, 2.06625e+05,\n",
              "       1.30000e+01, 2.06626e+05, 3.10000e+01, 2.06627e+05, 1.00000e+00,\n",
              "       2.06628e+05, 2.00000e+00, 2.00000e+00, 2.41460e+04, 2.06629e+05,\n",
              "       1.28622e+05, 1.70000e+01, 7.00000e+00, 2.06630e+05, 2.06631e+05,\n",
              "       2.97920e+04, 2.06632e+05, 7.00000e+00, 2.06633e+05, 2.00000e+00,\n",
              "       1.21200e+03, 2.06634e+05, 1.71100e+03, 3.00000e+00, 2.06635e+05,\n",
              "       2.06636e+05, 2.06637e+05, 2.06638e+05, 2.06639e+05, 2.06640e+05,\n",
              "       2.06641e+05, 2.06642e+05, 2.06643e+05, 2.06644e+05, 1.00000e+03,\n",
              "       2.06645e+05, 2.06646e+05, 2.06647e+05, 2.06648e+05, 1.30000e+01,\n",
              "       2.06649e+05, 1.00000e+00, 2.06650e+05, 2.06651e+05, 3.30000e+01,\n",
              "       2.06652e+05, 2.06653e+05, 2.06654e+05, 2.06655e+05, 1.35000e+02,\n",
              "       2.06656e+05, 2.06657e+05, 1.28623e+05, 1.28623e+05, 6.00000e+00,\n",
              "       2.81330e+04, 6.00000e+00, 2.81330e+04, 6.00000e+00, 1.20000e+01,\n",
              "       6.00000e+00, 1.20000e+01, 6.00000e+00, 1.20000e+01, 6.00000e+00,\n",
              "       6.00000e+00, 6.00000e+00, 5.55260e+04, 5.55260e+04, 1.28624e+05,\n",
              "       1.28624e+05, 1.57000e+02, 1.57000e+02, 1.28625e+05, 2.06658e+05,\n",
              "       1.28625e+05, 6.21000e+02, 2.06659e+05, 5.00000e+00, 2.06660e+05,\n",
              "       2.06661e+05, 6.00000e+00, 2.06662e+05, 1.22000e+03, 4.95910e+04,\n",
              "       2.06663e+05, 4.33300e+03, 3.00000e+00, 2.06664e+05, 3.00000e+00,\n",
              "       5.00000e+00, 2.06665e+05, 9.00000e+01, 4.10000e+01, 1.00000e+00,\n",
              "       2.06666e+05, 2.06667e+05, 6.00000e+00, 1.66000e+02, 1.00000e+00,\n",
              "       2.00000e+00, 2.06668e+05, 3.00000e+00, 1.00000e+00, 2.06669e+05,\n",
              "       2.06670e+05, 3.80000e+01, 3.10000e+01, 2.06671e+05, 1.28626e+05,\n",
              "       4.40000e+01, 5.30000e+01, 8.80000e+01, 2.06672e+05, 3.00000e+00,\n",
              "       2.06673e+05, 6.94000e+02, 2.06674e+05, 1.30000e+01, 2.06675e+05,\n",
              "       3.00000e+00, 2.06676e+05, 1.00000e+00, 2.10000e+02, 3.00000e+00,\n",
              "       1.00000e+00, 7.00000e+00, 5.00000e+00, 5.00000e+00, 2.06677e+05,\n",
              "       1.35000e+02, 2.06678e+05, 2.14000e+03, 2.06679e+05, 1.30000e+01,\n",
              "       2.06680e+05, 2.06681e+05, 2.00000e+00, 4.95910e+04, 1.00000e+00,\n",
              "       2.06682e+05, 4.95920e+04, 4.20000e+01, 2.20000e+01, 2.90000e+01,\n",
              "       2.06683e+05, 2.00000e+00, 2.00000e+00, 2.06684e+05, 2.06685e+05,\n",
              "       2.06686e+05, 2.06687e+05, 2.49000e+02, 1.28627e+05, 1.28627e+05,\n",
              "       1.39000e+03, 1.28628e+05, 1.28628e+05, 2.06688e+05, 7.00000e+00,\n",
              "       2.06689e+05, 2.00000e+00, 6.00000e+01, 3.00000e+00, 1.28629e+05,\n",
              "       2.06690e+05, 2.06691e+05, 2.06692e+05, 2.06693e+05, 2.06694e+05,\n",
              "       1.00000e+00, 1.00000e+00, 1.00000e+00, 1.00000e+00, 4.11150e+04,\n",
              "       1.81000e+02, 6.00000e+00, 6.00000e+00, 3.00000e+00, 2.06695e+05,\n",
              "       1.12000e+02, 1.00000e+00, 2.80000e+01, 3.00000e+00, 1.00000e+00,\n",
              "       2.06696e+05, 2.06697e+05, 3.00000e+00, 2.06698e+05, 3.00000e+00,\n",
              "       4.39000e+02, 1.00000e+00, 2.10000e+02, 2.10000e+02, 2.10000e+02,\n",
              "       2.10000e+02, 2.10000e+02, 2.10000e+02, 2.10000e+02, 2.10000e+02,\n",
              "       2.10000e+02, 2.06699e+05, 1.00000e+00, 9.79330e+04, 1.00000e+00,\n",
              "       2.06700e+05, 3.00000e+00, 3.48100e+03, 3.10000e+01, 1.00000e+00,\n",
              "       1.00000e+00, 1.00000e+00, 1.40000e+01, 1.28630e+05, 4.95910e+04,\n",
              "       2.06701e+05, 1.27100e+03, 6.00000e+00, 2.00000e+00, 6.00000e+00,\n",
              "       6.00000e+00, 2.00000e+00, 6.00000e+00, 6.00000e+00, 2.06702e+05,\n",
              "       1.28631e+05, 1.60000e+01, 2.06703e+05, 2.06704e+05, 5.34900e+03,\n",
              "       1.10630e+04, 9.00000e+00, 7.69040e+04, 2.06705e+05, 2.06706e+05,\n",
              "       4.95910e+04, 2.06707e+05, 4.00000e+01, 2.06708e+05, 2.06709e+05,\n",
              "       2.06710e+05, 2.06711e+05, 2.06712e+05, 2.06713e+05, 2.06714e+05,\n",
              "       2.06715e+05, 2.06716e+05, 2.06717e+05, 2.06718e+05, 2.06719e+05,\n",
              "       2.06720e+05, 2.06721e+05, 2.06722e+05, 6.00000e+00, 1.20000e+01,\n",
              "       2.06723e+05, 2.06724e+05, 7.00000e+00, 6.00000e+00, 6.00000e+00,\n",
              "       9.00000e+00, 4.70000e+01, 3.00000e+00, 1.28632e+05, 3.00000e+00,\n",
              "       9.79340e+04, 3.32900e+03, 1.47000e+02, 2.06725e+05, 2.97930e+04,\n",
              "       2.06726e+05, 6.00000e+00, 2.06727e+05, 2.06728e+05, 2.06729e+05,\n",
              "       2.06730e+05, 3.00000e+00, 4.46600e+04, 6.03900e+03, 1.28633e+05,\n",
              "       4.00000e+00, 4.00000e+00, 2.06731e+05, 2.00000e+00, 2.00000e+00,\n",
              "       1.20000e+01, 6.00000e+00, 1.20000e+01, 2.00000e+00, 1.20000e+01,\n",
              "       6.00000e+00, 1.20000e+01, 6.00000e+00, 1.20000e+01, 2.06732e+05,\n",
              "       1.20000e+01, 2.00000e+00, 1.20000e+01, 2.00000e+00, 2.00000e+00,\n",
              "       6.00000e+00, 6.00000e+00, 2.00000e+00, 6.00000e+00, 6.00000e+00,\n",
              "       2.06733e+05, 1.40000e+01, 2.30000e+01, 2.06734e+05, 2.06735e+05,\n",
              "       2.06736e+05, 2.06737e+05, 2.06738e+05, 1.60000e+01, 7.53500e+03,\n",
              "       7.70000e+02, 2.06739e+05, 2.06740e+05, 1.28619e+05, 2.06741e+05,\n",
              "       2.06742e+05, 2.06743e+05, 2.06744e+05, 2.97910e+04, 2.06745e+05,\n",
              "       6.73700e+03, 3.00000e+00, 2.06746e+05, 1.92000e+02, 2.06747e+05,\n",
              "       2.06748e+05, 2.06749e+05, 3.80000e+01, 3.00000e+00, 1.19510e+04,\n",
              "       7.20000e+01, 1.00000e+00, 2.35000e+02, 2.00000e+00, 5.00000e+00,\n",
              "       5.00000e+00, 2.60000e+01, 5.00000e+00, 5.00000e+00, 2.06750e+05,\n",
              "       3.00000e+00, 2.06751e+05, 1.40000e+01, 2.06752e+05, 1.28634e+05,\n",
              "       2.06753e+05, 4.20000e+01, 2.06754e+05, 2.06755e+05, 2.06756e+05,\n",
              "       2.06757e+05, 2.06758e+05, 2.06759e+05, 2.82300e+03, 2.06760e+05,\n",
              "       2.06761e+05, 2.06762e+05, 2.06763e+05, 1.10640e+04, 2.06764e+05,\n",
              "       1.00000e+00, 1.00000e+00, 1.00000e+00, 2.06765e+05, 2.06766e+05,\n",
              "       2.06767e+05, 2.06768e+05, 2.06769e+05, 2.06770e+05, 2.06771e+05,\n",
              "       2.06772e+05, 2.06773e+05, 2.80000e+01, 3.50000e+01, 2.06774e+05,\n",
              "       2.06775e+05, 3.00000e+00, 3.60000e+01, 1.30000e+01, 2.06776e+05,\n",
              "       3.00000e+00, 1.00000e+00, 2.06777e+05, 1.22000e+03, 4.95910e+04,\n",
              "       2.06778e+05, 2.06779e+05, 2.06780e+05, 2.06781e+05, 1.19520e+04,\n",
              "       1.00000e+00, 2.06782e+05, 2.06783e+05, 2.06784e+05, 2.06785e+05,\n",
              "       2.06786e+05, 2.06787e+05, 2.06788e+05, 2.06789e+05, 6.00000e+00,\n",
              "       1.35000e+02, 2.06790e+05, 2.06791e+05, 6.00000e+00, 2.10300e+03,\n",
              "       1.00400e+04, 2.06792e+05, 2.06793e+05, 2.06794e+05, 9.90000e+01,\n",
              "       3.50000e+01, 2.06795e+05, 1.28635e+05, 1.28635e+05, 3.50000e+01,\n",
              "       2.06796e+05, 1.28636e+05, 2.06797e+05, 1.28636e+05, 6.20900e+03,\n",
              "       2.06798e+05, 3.00000e+00, 1.70000e+01, 1.00000e+00, 1.00000e+00,\n",
              "       2.10000e+01, 2.06799e+05, 2.06800e+05, 2.06801e+05, 2.06802e+05,\n",
              "       7.00700e+03, 2.06803e+05, 6.00000e+00, 2.06804e+05, 2.06805e+05,\n",
              "       2.06806e+05, 2.06807e+05, 1.20000e+01, 2.06000e+03, 5.00000e+00,\n",
              "       2.06808e+05, 2.06809e+05, 1.60000e+01, 2.06810e+05, 2.06811e+05,\n",
              "       1.25700e+03, 2.06812e+05, 2.00000e+00, 1.60000e+01, 2.06813e+05,\n",
              "       2.06814e+05, 2.06815e+05, 2.06816e+05, 2.06817e+05, 9.70000e+01,\n",
              "       6.00000e+00, 2.00000e+00, 2.00000e+00, 2.00000e+00, 9.00000e+00,\n",
              "       2.06818e+05, 2.06819e+05, 2.06820e+05, 3.71300e+03, 9.00000e+00,\n",
              "       9.00000e+00, 8.71200e+03, 2.06821e+05, 2.00000e+00, 1.00000e+00,\n",
              "       2.06822e+05, 1.48000e+02, 9.65000e+02, 9.79350e+04, 9.79350e+04,\n",
              "       9.79350e+04, 2.06823e+05, 2.06824e+05, 2.06825e+05, 2.06826e+05,\n",
              "       2.06827e+05, 2.06828e+05, 2.06829e+05, 2.06830e+05, 4.00000e+00,\n",
              "       2.06831e+05, 4.00000e+00, 3.20100e+04, 2.06832e+05, 2.06833e+05,\n",
              "       2.06834e+05, 1.00000e+00, 2.30000e+01, 2.00000e+00, 7.53600e+03,\n",
              "       2.06835e+05, 1.16000e+02, 5.40000e+01, 2.30000e+01, 9.00000e+00,\n",
              "       5.40000e+01, 2.30000e+01, 2.06836e+05, 9.00000e+00, 2.06837e+05,\n",
              "       9.00000e+00, 2.00000e+00, 2.00000e+00, 2.00000e+00, 2.00000e+00,\n",
              "       2.06838e+05, 1.28637e+05, 2.06839e+05, 1.00410e+04, 2.06840e+05,\n",
              "       2.06841e+05, 1.00000e+00, 2.00000e+00, 2.06842e+05, 1.00000e+00,\n",
              "       5.40000e+01, 2.06843e+05, 1.00000e+00, 2.06844e+05, 9.00000e+00,\n",
              "       1.00000e+00, 1.28637e+05, 2.06845e+05, 1.48000e+02, 2.06846e+05,\n",
              "       1.00000e+00, 2.06847e+05, 2.30000e+01, 4.10000e+01, 2.00000e+00,\n",
              "       2.06848e+05, 1.00000e+00, 2.06849e+05, 2.06850e+05, 1.00000e+00,\n",
              "       9.00000e+00, 2.00000e+00, 2.81340e+04, 2.06851e+05, 1.00000e+00,\n",
              "       2.00000e+00, 2.06852e+05, 1.28638e+05, 1.00000e+00, 2.00000e+00,\n",
              "       1.28638e+05, 2.06853e+05, 2.06854e+05, 1.00000e+00, 2.00000e+00,\n",
              "       2.00000e+00, 2.06855e+05, 2.06856e+05, 2.06857e+05, 2.06858e+05,\n",
              "       1.00000e+00, 2.06859e+05, 2.06860e+05, 2.06861e+05, 1.48000e+02,\n",
              "       2.06862e+05, 1.00000e+00, 2.00000e+00, 2.06863e+05, 3.70520e+04,\n",
              "       2.06864e+05, 2.06865e+05, 1.48000e+02, 9.65000e+02, 1.00000e+00,\n",
              "       2.06866e+05, 2.30000e+01, 2.00000e+00, 2.06867e+05, 2.06868e+05,\n",
              "       2.06869e+05, 2.06870e+05, 5.40000e+01, 2.06871e+05, 2.06872e+05,\n",
              "       2.06873e+05, 2.06874e+05, 1.00000e+00, 2.06875e+05, 2.06876e+05,\n",
              "       2.06877e+05, 1.48000e+02, 2.06878e+05, 6.70000e+01, 6.70000e+01,\n",
              "       6.70000e+01, 1.28639e+05, 4.95930e+04, 7.69050e+04, 1.28639e+05,\n",
              "       2.06879e+05, 4.00000e+00, 2.06880e+05, 7.00800e+03, 7.00800e+03,\n",
              "       7.00800e+03, 7.00800e+03, 2.06881e+05, 2.06882e+05, 2.06883e+05,\n",
              "       7.13100e+03, 1.10650e+04, 1.13320e+04, 7.13200e+03, 1.19530e+04,\n",
              "       3.00000e+00, 1.19540e+04, 4.11160e+04, 1.00000e+00, 3.20110e+04,\n",
              "       1.19550e+04, 7.70400e+03, 1.13330e+04, 1.19560e+04, 1.13340e+04,\n",
              "       1.00000e+00, 1.00000e+00, 1.00000e+00, 1.00000e+00, 1.13350e+04,\n",
              "       1.13360e+04, 7.70500e+03, 1.13370e+04, 1.13380e+04, 4.11170e+04,\n",
              "       1.13390e+04, 4.11180e+04, 5.72300e+03, 5.72300e+03, 4.77100e+03,\n",
              "       1.19570e+04, 4.11190e+04, 1.19580e+04, 1.13400e+04, 1.13410e+04,\n",
              "       5.35000e+03, 7.13300e+03, 1.13420e+04, 1.13430e+04, 4.11200e+04,\n",
              "       1.13440e+04, 3.20120e+04, 3.20130e+04, 2.40000e+01, 2.00000e+01,\n",
              "       1.19590e+04, 2.00000e+01, 2.00000e+01, 2.00000e+01, 9.01300e+03,\n",
              "       5.70000e+01, 7.53700e+03, 6.20000e+01, 1.00000e+00, 2.03790e+04])"
            ]
          },
          "metadata": {},
          "execution_count": 9
        }
      ]
    },
    {
      "cell_type": "code",
      "source": [
        "X_train, X_test, y_train, y_test = train_test_split(X, y, test_size=0.2, random_state=seed_value)\n",
        "\n",
        "X_train, X_valid, y_train, y_valid = train_test_split(X_train, y_train, test_size=0.1, random_state=seed_value)"
      ],
      "metadata": {
        "id": "FBi4Wh8i3AX2"
      },
      "execution_count": 10,
      "outputs": []
    },
    {
      "cell_type": "code",
      "source": [
        "ros = RandomOverSampler()\n",
        "X_train_os, y_train_os = ros.fit_resample(np.array(X_train),np.array(y_train));"
      ],
      "metadata": {
        "id": "pPH_i8C03vDD"
      },
      "execution_count": 11,
      "outputs": []
    },
    {
      "cell_type": "code",
      "source": [
        "(unique, counts) = np.unique(y_train_os, return_counts=True)\n",
        "np.asarray((unique, counts)).T"
      ],
      "metadata": {
        "id": "pZ1qxkL833qH",
        "colab": {
          "base_uri": "https://localhost:8080/"
        },
        "outputId": "4c266a3f-190e-44a6-90da-17dfef54cf42"
      },
      "execution_count": 12,
      "outputs": [
        {
          "output_type": "execute_result",
          "data": {
            "text/plain": [
              "array([[  0, 641],\n",
              "       [  1, 641],\n",
              "       [  2, 641],\n",
              "       [  3, 641],\n",
              "       [  4, 641],\n",
              "       [  5, 641],\n",
              "       [  6, 641],\n",
              "       [  7, 641],\n",
              "       [  8, 641],\n",
              "       [  9, 641],\n",
              "       [ 10, 641],\n",
              "       [ 11, 641],\n",
              "       [ 12, 641],\n",
              "       [ 13, 641],\n",
              "       [ 14, 641],\n",
              "       [ 15, 641],\n",
              "       [ 16, 641],\n",
              "       [ 17, 641],\n",
              "       [ 18, 641],\n",
              "       [ 19, 641],\n",
              "       [ 20, 641],\n",
              "       [ 21, 641],\n",
              "       [ 22, 641],\n",
              "       [ 23, 641],\n",
              "       [ 24, 641],\n",
              "       [ 25, 641],\n",
              "       [ 26, 641],\n",
              "       [ 27, 641],\n",
              "       [ 28, 641],\n",
              "       [ 29, 641],\n",
              "       [ 30, 641],\n",
              "       [ 31, 641],\n",
              "       [ 32, 641],\n",
              "       [ 33, 641],\n",
              "       [ 34, 641],\n",
              "       [ 35, 641],\n",
              "       [ 36, 641],\n",
              "       [ 37, 641],\n",
              "       [ 39, 641],\n",
              "       [ 41, 641],\n",
              "       [ 42, 641],\n",
              "       [ 43, 641],\n",
              "       [ 44, 641],\n",
              "       [ 45, 641],\n",
              "       [ 46, 641],\n",
              "       [ 47, 641]])"
            ]
          },
          "metadata": {},
          "execution_count": 12
        }
      ]
    },
    {
      "cell_type": "code",
      "source": [
        "train_data = TensorDataset(torch.from_numpy(X_train_os), torch.from_numpy(y_train_os))\n",
        "test_data = TensorDataset(torch.from_numpy(X_test), torch.from_numpy(y_test))\n",
        "valid_data = TensorDataset(torch.from_numpy(X_valid), torch.from_numpy(y_valid))"
      ],
      "metadata": {
        "id": "g4STFnC635mE"
      },
      "execution_count": 13,
      "outputs": []
    },
    {
      "cell_type": "code",
      "source": [
        "BATCH_SIZE = 100\n",
        "device = torch.device(\"cuda:0\" if torch.cuda.is_available() else \"cpu\")\n",
        "\n",
        "train_loader = DataLoader(train_data, shuffle=True, batch_size=BATCH_SIZE, drop_last=True)\n",
        "# train_loader.to(device)\n",
        "valid_loader = DataLoader(valid_data, shuffle=True, batch_size=BATCH_SIZE, drop_last=True)\n",
        "# valid_loader.to(device)\n",
        "test_loader = DataLoader(test_data, shuffle=True, batch_size=BATCH_SIZE, drop_last=True)\n",
        "# test_loader.to(device)"
      ],
      "metadata": {
        "id": "g1zjGPTU4Tx0"
      },
      "execution_count": 15,
      "outputs": []
    },
    {
      "cell_type": "code",
      "source": [
        "class ConvNet(nn.Module):\n",
        "    def __init__(self, num_classes=50, batch_size=32):\n",
        "        super(ConvNet, self).__init__()\n",
        "        self.layer13 = nn.Sequential(\n",
        "            nn.Conv2d(100, 100, kernel_size=(1,vector_len), stride=3,padding=0), \n",
        "            nn.ReLU(),\n",
        "            #nn.MaxPool2d(kernel_size=(16,8), stride=1)\n",
        "            )\n",
        "        self.layer14 = nn.Sequential(\n",
        "            nn.Conv2d(100, 100, kernel_size=(1,vector_len), stride=1,padding=0), \n",
        "            nn.ReLU(),\n",
        "            # nn.MaxPool2d(kernel_size=(69,1), stride=1)\n",
        "            )\n",
        "        self.layer15 = nn.Sequential(\n",
        "            nn.Conv2d(100, 100, kernel_size=(1,vector_len), stride=1,padding=0), \n",
        "            nn.ReLU(),\n",
        "            # nn.MaxPool2d(kernel_size=(100,1), stride=1)\n",
        "            )\n",
        "        #self.layer2 = nn.Sequential(\n",
        "            #nn.Conv2d(15, 30, kernel_size=5, stride=1, padding=0),\n",
        "            #nn.ReLU(),\n",
        "            #nn.MaxPool2d(kernel_size=2, stride=2))\n",
        "        self.drop_out = nn.Dropout()\n",
        "        #concat operation\n",
        "        self.fc1 = nn.Linear(3, 1 * 1 * 100)\n",
        "        self.fc2 = nn.Linear(100, 50)\n",
        "        #self.fc3 = nn.Linear(100,3)\n",
        "        \n",
        "    def forward(self, x):\n",
        "        x3 = self.layer13(x)\n",
        "        x4 = self.layer14(x)\n",
        "        x5 = self.layer15(x)\n",
        "        x3 = x3.reshape(x3.size(0), -1)\n",
        "        x4 = x4.reshape(x4.size(0), -1)\n",
        "        x5 = x5.reshape(x5.size(0), -1)\n",
        "        x3 = self.drop_out(x3)\n",
        "        x4 = self.drop_out(x4)\n",
        "        x5 = self.drop_out(x5)\n",
        "        out = torch.cat((x3,x4,x5),1)\n",
        "        out = self.fc1(out)\n",
        "        out = self.fc2(out)\n",
        "        return(out)"
      ],
      "metadata": {
        "id": "w8eHFeMu6CML"
      },
      "execution_count": 16,
      "outputs": []
    },
    {
      "cell_type": "code",
      "source": [
        "\n",
        "learning_rate = 0.01\n",
        "\n",
        "model = ConvNet()\n",
        "model.float()\n",
        "model.to(device) #CNN to GPU\n",
        "\n",
        "\n",
        "# Loss and optimizer\n",
        "criterion = nn.CrossEntropyLoss()\n",
        "#CrossEntropyLoss function combines both a SoftMax activation and a cross entropy loss function in the same function\n",
        "\n",
        "optimizer = torch.optim.Adam(model.parameters(), lr=learning_rate)"
      ],
      "metadata": {
        "id": "TnmR2jR-6E7n"
      },
      "execution_count": 17,
      "outputs": []
    },
    {
      "cell_type": "code",
      "source": [
        "total_step = len(df)/BATCH_SIZE\n",
        "num_epochs = 100\n",
        "# labels_train=list(np.array(y_train))[train.indices[0:8100]]\n",
        "\n",
        "\n",
        "loss_list = []\n",
        "acc_list = []\n",
        "val_acc_list = []\n",
        "\n",
        "for epoch in range(num_epochs):\n",
        "    loss_list_element = 0\n",
        "    acc_list_element = 0\n",
        "    for i, (data_t, labels) in enumerate(train_loader):\n",
        "        data_t=data_t.unsqueeze(1)\n",
        "        data_t, labels = data_t.to(device), labels.to(device)\n",
        "        \n",
        "        # Run the forward pass\n",
        "        outputs = model(data_t.float())\n",
        "        loss = criterion(outputs, labels)\n",
        "        loss_list_element += loss.item()\n",
        "        #print(\"==========forward pass finished==========\")\n",
        "            \n",
        "        # Backprop and perform Adam optimisation\n",
        "        optimizer.zero_grad()\n",
        "        loss.backward()\n",
        "        optimizer.step()\n",
        "        #print(\"==========backward pass finished==========\")\n",
        "        \n",
        "        # Track the accuracy\n",
        "        total = labels.size(0)\n",
        "        _, predicted = torch.max(outputs.data, 1)\n",
        "        correct = (predicted == labels).sum().item()\n",
        "        acc_list_element += correct\n",
        "        \n",
        "        \n",
        "    loss_list_element = loss_list_element/1000\n",
        "    acc_list_element = acc_list_element/1000\n",
        "    print('Epoch [{}/{}], Loss: {:.4f}, Accuracy: {:.2f}%'\n",
        "          .format(epoch + 1, num_epochs, loss_list_element,acc_list_element * 100))  \n",
        "    loss_list.append(loss_list_element)\n",
        "    acc_list.append(acc_list_element)"
      ],
      "metadata": {
        "id": "w-IDuA0r7aYd",
        "colab": {
          "base_uri": "https://localhost:8080/"
        },
        "outputId": "3f519ad9-6b8e-4c80-b429-a61bd498a334"
      },
      "execution_count": 25,
      "outputs": [
        {
          "output_type": "stream",
          "name": "stdout",
          "text": [
            "Epoch [1/100], Loss: 1.1268, Accuracy: 56.60%\n",
            "Epoch [2/100], Loss: 1.1267, Accuracy: 63.20%\n",
            "Epoch [3/100], Loss: 1.1268, Accuracy: 58.40%\n",
            "Epoch [4/100], Loss: 1.1269, Accuracy: 60.50%\n",
            "Epoch [5/100], Loss: 1.1267, Accuracy: 63.80%\n",
            "Epoch [6/100], Loss: 1.1269, Accuracy: 63.10%\n",
            "Epoch [7/100], Loss: 1.1268, Accuracy: 64.30%\n",
            "Epoch [8/100], Loss: 1.1268, Accuracy: 61.50%\n",
            "Epoch [9/100], Loss: 7.3369, Accuracy: 61.70%\n",
            "Epoch [10/100], Loss: 1.1270, Accuracy: 59.20%\n",
            "Epoch [11/100], Loss: 1.1269, Accuracy: 59.60%\n",
            "Epoch [12/100], Loss: 1.1270, Accuracy: 60.60%\n",
            "Epoch [13/100], Loss: 1.1270, Accuracy: 61.40%\n",
            "Epoch [15/100], Loss: 1.1271, Accuracy: 57.60%\n",
            "Epoch [17/100], Loss: 1.1269, Accuracy: 62.90%\n",
            "Epoch [18/100], Loss: 1.1269, Accuracy: 60.10%\n",
            "Epoch [19/100], Loss: 1.1269, Accuracy: 62.20%\n",
            "Epoch [20/100], Loss: 1.1269, Accuracy: 66.50%\n",
            "Epoch [21/100], Loss: 1.1270, Accuracy: 63.50%\n",
            "Epoch [22/100], Loss: 1.1271, Accuracy: 59.20%\n",
            "Epoch [23/100], Loss: 1.1269, Accuracy: 57.50%\n",
            "Epoch [24/100], Loss: 1.1268, Accuracy: 60.00%\n",
            "Epoch [25/100], Loss: 1.1269, Accuracy: 63.00%\n",
            "Epoch [26/100], Loss: 1.1269, Accuracy: 63.80%\n",
            "Epoch [27/100], Loss: 1.1272, Accuracy: 60.70%\n",
            "Epoch [28/100], Loss: 1.1272, Accuracy: 63.80%\n",
            "Epoch [29/100], Loss: 1.1269, Accuracy: 59.50%\n",
            "Epoch [30/100], Loss: 1.1269, Accuracy: 62.80%\n",
            "Epoch [31/100], Loss: 1.1270, Accuracy: 59.30%\n",
            "Epoch [32/100], Loss: 1.1270, Accuracy: 64.60%\n",
            "Epoch [33/100], Loss: 1.1271, Accuracy: 59.80%\n",
            "Epoch [34/100], Loss: 1.1271, Accuracy: 63.50%\n",
            "Epoch [35/100], Loss: 1.1272, Accuracy: 63.00%\n",
            "Epoch [36/100], Loss: 1.1271, Accuracy: 62.10%\n",
            "Epoch [37/100], Loss: 1.1269, Accuracy: 63.30%\n",
            "Epoch [38/100], Loss: 1.1270, Accuracy: 67.20%\n",
            "Epoch [39/100], Loss: 1.1269, Accuracy: 62.70%\n",
            "Epoch [40/100], Loss: 1.1270, Accuracy: 62.80%\n",
            "Epoch [41/100], Loss: 1.1271, Accuracy: 64.50%\n",
            "Epoch [42/100], Loss: 1.1271, Accuracy: 60.50%\n",
            "Epoch [43/100], Loss: 1.1271, Accuracy: 59.70%\n",
            "Epoch [44/100], Loss: 1.1270, Accuracy: 61.30%\n",
            "Epoch [45/100], Loss: 1.1270, Accuracy: 59.10%\n",
            "Epoch [46/100], Loss: 1.1270, Accuracy: 62.80%\n",
            "Epoch [47/100], Loss: 1.1268, Accuracy: 60.70%\n",
            "Epoch [49/100], Loss: 1.1269, Accuracy: 58.10%\n",
            "Epoch [50/100], Loss: 1.1270, Accuracy: 62.40%\n",
            "Epoch [51/100], Loss: 1.1268, Accuracy: 63.70%\n",
            "Epoch [52/100], Loss: 1.1268, Accuracy: 65.80%\n",
            "Epoch [53/100], Loss: 1.1269, Accuracy: 61.80%\n",
            "Epoch [54/100], Loss: 1.1269, Accuracy: 63.90%\n",
            "Epoch [55/100], Loss: 1.1269, Accuracy: 65.20%\n",
            "Epoch [56/100], Loss: 1.1268, Accuracy: 60.80%\n",
            "Epoch [57/100], Loss: 1.1268, Accuracy: 66.00%\n",
            "Epoch [58/100], Loss: 1.1270, Accuracy: 66.20%\n",
            "Epoch [59/100], Loss: 1.1268, Accuracy: 62.80%\n",
            "Epoch [60/100], Loss: 1.1269, Accuracy: 60.80%\n",
            "Epoch [61/100], Loss: 1.1269, Accuracy: 58.10%\n",
            "Epoch [62/100], Loss: 1.1268, Accuracy: 61.30%\n",
            "Epoch [63/100], Loss: 1.1269, Accuracy: 63.40%\n",
            "Epoch [64/100], Loss: 1.1268, Accuracy: 61.20%\n",
            "Epoch [65/100], Loss: 1.1270, Accuracy: 58.60%\n",
            "Epoch [66/100], Loss: 1.1269, Accuracy: 62.80%\n",
            "Epoch [67/100], Loss: 1.1267, Accuracy: 60.60%\n",
            "Epoch [68/100], Loss: 1.1268, Accuracy: 66.80%\n",
            "Epoch [69/100], Loss: 1.1269, Accuracy: 61.20%\n",
            "Epoch [70/100], Loss: 1.1268, Accuracy: 64.40%\n",
            "Epoch [71/100], Loss: 1.1269, Accuracy: 60.40%\n",
            "Epoch [72/100], Loss: 1.1268, Accuracy: 60.10%\n",
            "Epoch [73/100], Loss: 1.1267, Accuracy: 65.20%\n",
            "Epoch [74/100], Loss: 1.1267, Accuracy: 61.90%\n",
            "Epoch [75/100], Loss: 1.1268, Accuracy: 65.40%\n",
            "Epoch [76/100], Loss: 1.1268, Accuracy: 58.90%\n",
            "Epoch [77/100], Loss: 1.1268, Accuracy: 59.10%\n",
            "Epoch [78/100], Loss: 1.1268, Accuracy: 61.50%\n",
            "Epoch [79/100], Loss: 1.1268, Accuracy: 64.70%\n",
            "Epoch [80/100], Loss: 1.1268, Accuracy: 63.10%\n",
            "Epoch [81/100], Loss: 1.1269, Accuracy: 60.50%\n",
            "Epoch [82/100], Loss: 1.1266, Accuracy: 63.20%\n",
            "Epoch [83/100], Loss: 1.1267, Accuracy: 61.50%\n",
            "Epoch [84/100], Loss: 1.1267, Accuracy: 63.70%\n",
            "Epoch [85/100], Loss: 1.1268, Accuracy: 61.70%\n",
            "Epoch [86/100], Loss: 1.1266, Accuracy: 63.60%\n",
            "Epoch [87/100], Loss: 1.1269, Accuracy: 60.80%\n",
            "Epoch [88/100], Loss: 1.1267, Accuracy: 63.30%\n",
            "Epoch [89/100], Loss: 1.1267, Accuracy: 62.30%\n",
            "Epoch [90/100], Loss: 1.1269, Accuracy: 61.30%\n",
            "Epoch [91/100], Loss: 1.1268, Accuracy: 56.90%\n",
            "Epoch [92/100], Loss: 1.1268, Accuracy: 60.20%\n",
            "Epoch [93/100], Loss: 1.1269, Accuracy: 61.50%\n",
            "Epoch [94/100], Loss: 1.1269, Accuracy: 61.80%\n",
            "Epoch [95/100], Loss: 1.1270, Accuracy: 65.30%\n",
            "Epoch [96/100], Loss: 1.1270, Accuracy: 63.20%\n",
            "Epoch [97/100], Loss: 1.1270, Accuracy: 64.40%\n",
            "Epoch [98/100], Loss: 1.1270, Accuracy: 65.70%\n",
            "Epoch [99/100], Loss: 1.1269, Accuracy: 68.10%\n",
            "Epoch [100/100], Loss: 1.1271, Accuracy: 65.30%\n"
          ]
        }
      ]
    },
    {
      "cell_type": "code",
      "source": [
        "plt.figure(figsize=[8, 5])\n",
        "plt.plot(range(100), acc_list, label=\"ACC\")\n",
        "plt.title(\"Training Accuracy Graph\")\n",
        "plt.xlabel(\"Epoch\")\n",
        "plt.legend(loc='upper left')"
      ],
      "metadata": {
        "colab": {
          "base_uri": "https://localhost:8080/",
          "height": 386
        },
        "id": "MOulREDmSA25",
        "outputId": "e50ea83e-6a4b-46b8-8cae-295f960a57cc"
      },
      "execution_count": 29,
      "outputs": [
        {
          "output_type": "execute_result",
          "data": {
            "text/plain": [
              "<matplotlib.legend.Legend at 0x7fd7c2c58f10>"
            ]
          },
          "metadata": {},
          "execution_count": 29
        },
        {
          "output_type": "display_data",
          "data": {
            "text/plain": [
              "<Figure size 576x360 with 1 Axes>"
            ],
            "image/png": "[encoded data removed]"
          },
          "metadata": {}
        }
      ]
    },
    {
      "cell_type": "code",
      "source": [
        "plt.figure(figsize=[8, 5])\n",
        "plt.plot(range(100), loss_list, label=\"LOSS\")\n",
        "plt.title(\"Training Loss Graph\")\n",
        "plt.xlabel(\"Epoch\")\n",
        "plt.legend(loc='upper left')"
      ],
      "metadata": {
        "colab": {
          "base_uri": "https://localhost:8080/",
          "height": 386
        },
        "id": "S5S8f-OvTkcM",
        "outputId": "6034b65e-49dc-49d1-992d-e033cab8d272"
      },
      "execution_count": 28,
      "outputs": [
        {
          "output_type": "execute_result",
          "data": {
            "text/plain": [
              "<matplotlib.legend.Legend at 0x7fd7c2ba8150>"
            ]
          },
          "metadata": {},
          "execution_count": 28
        },
        {
          "output_type": "display_data",
          "data": {
            "text/plain": [
              "<Figure size 576x360 with 1 Axes>"
            ],
            "image/png": "[encoded data removed]"
          },
          "metadata": {}
        }
      ]
    },
    {
      "cell_type": "code",
      "source": [
        "model.eval()\n",
        "with torch.no_grad():\n",
        "    correct = 0\n",
        "    total = 0\n",
        "    for data_t, labels in test_loader:\n",
        "        data_t=data_t.unsqueeze(1)\n",
        "        data_t, labels = data_t.to(device), labels.to(device)\n",
        "        \n",
        "        outputs = model(data_t.float())\n",
        "        _, predicted = torch.max(outputs.data, 1)\n",
        "        total += labels.size(0)\n",
        "        correct += (predicted == labels).sum().item()\n",
        "\n",
        "    print('Test Accuracy of the model: {} %'.format((correct / total) * 100))"
      ],
      "metadata": {
        "colab": {
          "base_uri": "https://localhost:8080/"
        },
        "id": "dQaYUc6iPpU5",
        "outputId": "52bad6e4-59f4-4421-985c-0504e03434b5"
      },
      "execution_count": 30,
      "outputs": [
        {
          "output_type": "stream",
          "name": "stdout",
          "text": [
            "Test Accuracy of the model: 3.0 %\n"
          ]
        }
      ]
    },
    {
      "cell_type": "code",
      "source": [],
      "metadata": {
        "id": "DjQJZqSB8PlF"
      },
      "execution_count": null,
      "outputs": []
    }
  ],
  "metadata": {
    "colab": {
      "provenance": [],
      "collapsed_sections": []
    },
    "kernelspec": {
      "display_name": "Python 3",
      "name": "python3"
    },
    "language_info": {
      "name": "python"
    },
    "accelerator": "GPU",
    "gpuClass": "standard"
  },
  "nbformat": 4,
  "nbformat_minor": 0
}